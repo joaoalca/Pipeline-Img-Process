{
  "nbformat": 4,
  "nbformat_minor": 0,
  "metadata": {
    "colab": {
      "provenance": []
    },
    "kernelspec": {
      "name": "python3",
      "display_name": "Python 3"
    },
    "language_info": {
      "name": "python"
    }
  },
  "cells": [
    {
      "cell_type": "code",
      "execution_count": 1,
      "metadata": {
        "colab": {
          "base_uri": "https://localhost:8080/"
        },
        "id": "GEDFolpCbRGa",
        "outputId": "4a445579-62bc-45bf-d53f-a2687f9c2ddc"
      },
      "outputs": [
        {
          "output_type": "stream",
          "name": "stdout",
          "text": [
            "\u001b[2K     \u001b[90m━━━━━━━━━━━━━━━━━━━━━━━━━━━━━━━━━━━━━━━━\u001b[0m \u001b[32m21.5/21.5 MB\u001b[0m \u001b[31m34.5 MB/s\u001b[0m eta \u001b[36m0:00:00\u001b[0m\n",
            "\u001b[?25h"
          ]
        }
      ],
      "source": [
        "!pip install rasterio --quiet\n",
        "!pip install Pillow --quiet"
      ]
    },
    {
      "cell_type": "code",
      "source": [
        "import os\n",
        "from PIL import Image\n",
        "import pandas as pd\n",
        "import numpy as np\n",
        "import unittest"
      ],
      "metadata": {
        "id": "CzGecm2rpCBi"
      },
      "execution_count": 1,
      "outputs": []
    },
    {
      "cell_type": "code",
      "source": [
        "# Função para carregar imagens\n",
        "def load_images(image_directory):\n",
        "    images = []\n",
        "    for filename in os.listdir(image_directory):\n",
        "        if filename.endswith('.jpg'):\n",
        "            img = Image.open(os.path.join(image_directory, filename))\n",
        "            images.append((filename, img))\n",
        "    return images\n",
        "\n",
        "# Função para normalizar pixels\n",
        "def normalize_pixels(img):\n",
        "    img_array = np.array(img, dtype=np.float32)\n",
        "    max_pixel = np.max(img_array)\n",
        "    min_pixel = np.min(img_array)\n",
        "    if max_pixel == min_pixel:\n",
        "        return np.zeros(img_array.shape)\n",
        "    else:\n",
        "        normalized_img = (img_array - min_pixel) / (max_pixel - min_pixel)\n",
        "        print(normalized_img)\n",
        "        return normalized_img\n",
        "\n",
        "\n",
        "# Pipeline\n",
        "def process_image(img):\n",
        "    # Converter para escala de cinza e redimensionar\n",
        "    img = img.convert('L')  # Converte para escala de cinza\n",
        "    img = img.resize((256, 256))  # Redimensiona para 256x256\n",
        "    # Normalizar os pixels\n",
        "    normalized_img = normalize_pixels(img)\n",
        "    return normalized_img"
      ],
      "metadata": {
        "id": "RN-AtmYBqQfo"
      },
      "execution_count": 11,
      "outputs": []
    },
    {
      "cell_type": "code",
      "source": [
        "# Funções de teste\n",
        "class TestImageProcessing(unittest.TestCase):\n",
        "    def test_image_normalization(self):\n",
        "        img = Image.new('L', (10, 10), color = 100)  # Criar imagem com valor constante de pixel\n",
        "        normalized_img = normalize_pixels(img)\n",
        "        expected = np.zeros((10, 10))\n",
        "        np.testing.assert_array_almost_equal(normalized_img, expected)\n"
      ],
      "metadata": {
        "id": "b14wltsCqWy5"
      },
      "execution_count": 9,
      "outputs": []
    },
    {
      "cell_type": "code",
      "source": [
        "\n",
        "image_dir = '/content'\n",
        "\n",
        "\n",
        "images = load_images(image_dir)\n",
        "processed_images = [(filename, process_image(img)) for filename, img in images]\n",
        "\n",
        "\n",
        "unittest.main(argv=[''], verbosity=2, exit=False)\n",
        "\n",
        "\n",
        "\n"
      ],
      "metadata": {
        "id": "LHMQnYXFpAos"
      },
      "execution_count": null,
      "outputs": []
    },
    {
      "cell_type": "code",
      "source": [
        "# Criando o DataFrame\n",
        "df = pd.DataFrame({\n",
        "    'Filename': [filename for filename, img in processed_images],\n",
        "    'Pixels': [img.flatten() for filename, img in processed_images]  # Armazenando pixels\n",
        "})\n",
        "\n",
        "print(df.head())"
      ],
      "metadata": {
        "colab": {
          "base_uri": "https://localhost:8080/"
        },
        "id": "haN9b40Vqbtx",
        "outputId": "add87470-afdb-4fc7-ed78-ce09b3a69e88"
      },
      "execution_count": 7,
      "outputs": [
        {
          "output_type": "stream",
          "name": "stdout",
          "text": [
            "                  Filename                                             Pixels\n",
            "0   lonely-814631_1280.jpg  [0.9137255, 0.92156863, 0.9254902, 0.92941177,...\n",
            "1      man-593333_1280.jpg  [0.19665273, 0.22594142, 0.25941423, 0.2970711...\n",
            "2  sunset-3156176_1280.jpg  [0.18595041, 0.18595041, 0.19008264, 0.1942148...\n",
            "3     man-2933984_1280.jpg  [0.0, 0.0, 0.0, 0.0, 0.0, 0.0, 0.0, 0.0, 0.0, ...\n",
            "4  people-3120717_1280.jpg  [0.038043477, 0.038043477, 0.038043477, 0.0380...\n"
          ]
        }
      ]
    }
  ]
}